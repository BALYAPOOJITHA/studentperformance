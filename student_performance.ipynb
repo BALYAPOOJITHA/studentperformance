{
  "cells": [
    {
      "cell_type": "markdown",
      "id": "bbd30a34",
      "metadata": {
        "id": "bbd30a34"
      },
      "source": [
        "# LSTM for Student Academic Performance Evaluation:\n",
        "\n",
        "\n",
        "Description: This algorithm analyzes student performance using an LSTM model. The input data includes \n",
        "student academic performance metrics, and the output is a prediction of good performers, poor \n",
        "performers, students who require support and the dropouts\n",
        "Input: semester percentages\n",
        "Output: A binary classification indicating whether a student is a good performer or bad performer or \n",
        "requiring support or dropout\n",
        "Procedure:\n",
        "1. Import required libraries for data analysis, data cleaning, visualization, and LSTM modeling.\n",
        "2. Load the dataset of student academic performance metrics \n",
        "3. Clean the data \n",
        "4. Evaluate the academic performance of good performers, poor performers, student who require \n",
        "support, student dropouts, students with placement eligibility by calculating their cumulative \n",
        "percentage and display the output.\n",
        "5. Visualize the critical values as graphs across all students \n",
        "6. Visualize the critical values as graphs across all students\n",
        "7. Prepare the data for the LSTM model by separating input features and the target variable.\n",
        "8. Split the data into training and testing sets \n",
        "9. Reshape the input data into the required format for LSTM modeling.\n",
        "10. Build and compile the LSTM model \n",
        "11. Train the LSTM model on the training data.\n",
        "12. Evaluate the LSTM model and print accuracies of trained LSTM model."
      ]
    },
    {
      "cell_type": "code",
      "execution_count": 1,
      "id": "00fad902",
      "metadata": {
        "id": "00fad902"
      },
      "outputs": [],
      "source": [
        "import csv\n",
        "import random\n",
        "\n",
        "# Define the number of students and semesters\n",
        "num_students = 2000\n",
        "num_semesters = 3\n",
        "\n",
        "# Open a new CSV file for writing\n",
        "with open('student_perfor1.csv', 'w', newline='') as csvfile:\n",
        "    # Define the CSV writer\n",
        "    writer = csv.writer(csvfile)\n",
        "\n",
        "    # Write the header row\n",
        "    writer.writerow(['Student ID', 'Semester 1', 'Semester 2', 'Semester 3', 'Attendance', 'Extracurricular', 'Awards', 'Coding'])\n",
        "\n",
        "    # Generate and write the data for each student\n",
        "    for i in range(num_students):\n",
        "        row = [f'Student {i+1}']\n",
        "        for j in range(num_semesters):\n",
        "            row.append(random.randint(0, 100))\n",
        "        row.append(random.randint(0, 100))\n",
        "        row.append(random.randint(0, 1))\n",
        "        row.append(random.randint(0, 5))\n",
        "        row.append(random.randint(0, 3))\n",
        "        writer.writerow(row)"
      ]
    },
    {
      "cell_type": "code",
      "execution_count": null,
      "id": "53b3674b",
      "metadata": {
        "id": "53b3674b"
      },
      "outputs": [],
      "source": [
        "import pandas as pd\n",
        "import numpy as np\n",
        "import matplotlib.pyplot as plt\n",
        "from sklearn.model_selection import train_test_split\n",
        "from keras.models import Sequential\n",
        "from keras.layers import Dense, LSTM\n",
        "from sklearn.preprocessing import StandardScaler\n",
        "import tensorflow as tf\n",
        "tf.compat.v1.disable_eager_execution()"
      ]
    },
    {
      "cell_type": "code",
      "execution_count": null,
      "id": "7068d907",
      "metadata": {
        "id": "7068d907"
      },
      "outputs": [],
      "source": [
        "data = pd.read_csv('student_perfor1.csv')"
      ]
    },
    {
      "cell_type": "code",
      "execution_count": null,
      "id": "04a4eec5",
      "metadata": {
        "id": "04a4eec5"
      },
      "outputs": [],
      "source": [
        "data = data.dropna()"
      ]
    },
    {
      "cell_type": "code",
      "execution_count": null,
      "id": "1d7173f8",
      "metadata": {
        "id": "1d7173f8"
      },
      "outputs": [],
      "source": [
        "data['cumulative_percentage'] = data.mean(axis=1)\n",
        "data['good_performance'] = np.where(data['cumulative_percentage'] >= 60, 1, 0)\n",
        "data['poor_performance'] = np.where(data['cumulative_percentage'] < 40, 1, 0)\n",
        "data['support_required'] = np.where((data['cumulative_percentage'] >= 40) & (data['cumulative_percentage'] < 60), 1, 0)\n",
        "data['dropout'] = np.where(data.min(axis=1) < 35, 1, 0)\n",
        "data['eligible_for_placement'] = np.where((data['cumulative_percentage'] >= 65) & (data['Coding'] | data['Awards'] | data['Extracurricular']), 1, 0)"
      ]
    },
    {
      "cell_type": "code",
      "execution_count": null,
      "id": "faa0861c",
      "metadata": {
        "id": "faa0861c",
        "outputId": "471450dd-62ca-4f11-ac42-84b2a2c81cf0"
      },
      "outputs": [
        {
          "data": {
            "text/plain": [
              "<AxesSubplot:>"
            ]
          },
          "execution_count": 61,
          "metadata": {},
          "output_type": "execute_result"
        },
        {
          "data": {
            "image/png": "[encoded data removed]",
            "text/plain": [
              "<Figure size 432x288 with 1 Axes>"
            ]
          },
          "metadata": {
            "needs_background": "light"
          },
          "output_type": "display_data"
        }
      ],
      "source": [
        "data[['cumulative_percentage', 'good_performance', 'poor_performance', 'support_required', 'dropout', 'eligible_for_placement']].plot(kind='line')"
      ]
    },
    {
      "cell_type": "code",
      "execution_count": null,
      "id": "122cd46c",
      "metadata": {
        "id": "122cd46c"
      },
      "outputs": [],
      "source": [
        "X = data.iloc[:, :-1]\n",
        "y = data.iloc[:, -1]"
      ]
    },
    {
      "cell_type": "code",
      "execution_count": null,
      "id": "4aa05e1b",
      "metadata": {
        "id": "4aa05e1b"
      },
      "outputs": [],
      "source": [
        "#here we encoding the labels as we have the student id's is non numeric\n",
        "le = LabelEncoder()\n",
        "X.iloc[:, 0] = le.fit_transform(X.iloc[:, 0])\n",
        "\n"
      ]
    },
    {
      "cell_type": "code",
      "execution_count": null,
      "id": "497bd53f",
      "metadata": {
        "id": "497bd53f"
      },
      "outputs": [],
      "source": [
        "# scale the features\n",
        "scaler = MinMaxScaler()\n",
        "X = scaler.fit_transform(X)\n"
      ]
    },
    {
      "cell_type": "code",
      "execution_count": null,
      "id": "e04d1da0",
      "metadata": {
        "id": "e04d1da0"
      },
      "outputs": [],
      "source": [
        "#here we are reshaping the data which is on eof the important step for lstm model\n",
        "X = X.reshape(X.shape[0], 1, X.shape[1])"
      ]
    },
    {
      "cell_type": "code",
      "execution_count": null,
      "id": "9b08202d",
      "metadata": {
        "id": "9b08202d"
      },
      "outputs": [],
      "source": [
        "#here we are splitting the data  into training and testing data\n",
        "split = int(0.8 * len(X))\n",
        "X_train, X_test, y_train, y_test = X[:split], X[split:], y[:split], y[split:]\n",
        "\n"
      ]
    },
    {
      "cell_type": "code",
      "execution_count": null,
      "id": "9dbab5e1",
      "metadata": {
        "id": "9dbab5e1"
      },
      "outputs": [],
      "source": [
        "#here the lstm model is created\n",
        "model = Sequential()\n",
        "model.add(LSTM(units=50, return_sequences=True, input_shape=(X_train.shape[1], X_train.shape[2])))\n",
        "model.add(LSTM(units=50))\n",
        "model.add(Dense(1))\n",
        "\n"
      ]
    },
    {
      "cell_type": "code",
      "execution_count": null,
      "id": "2b3c2298",
      "metadata": {
        "id": "2b3c2298"
      },
      "outputs": [],
      "source": [
        "# compiling the model\n",
        "model.compile(optimizer='adam', loss='mse')\n",
        "\n"
      ]
    },
    {
      "cell_type": "code",
      "execution_count": null,
      "id": "f107aede",
      "metadata": {
        "id": "f107aede",
        "outputId": "4a69a534-f5ba-4e6d-cc5b-b8b81dd713ad"
      },
      "outputs": [
        {
          "name": "stdout",
          "output_type": "stream",
          "text": [
            "Train on 1440 samples, validate on 160 samples\n",
            "Epoch 1/50\n",
            "1440/1440 [==============================] - 1s 570us/sample - loss: 0.3599 - val_loss: 0.1999\n"
          ]
        },
        {
          "name": "stderr",
          "output_type": "stream",
          "text": [
            "C:\\ProgramData\\Anaconda3\\lib\\site-packages\\keras\\engine\\training.py:2470: UserWarning: `Model.state_updates` will be removed in a future version. This property should not be used in TensorFlow 2.0, as `updates` are applied automatically.\n",
            "  warnings.warn('`Model.state_updates` will be removed in a future version. '\n"
          ]
        },
        {
          "name": "stdout",
          "output_type": "stream",
          "text": [
            "Epoch 2/50\n",
            "1440/1440 [==============================] - 0s 76us/sample - loss: 0.1730 - val_loss: 0.1928\n",
            "Epoch 3/50\n",
            "1440/1440 [==============================] - 0s 71us/sample - loss: 0.1515 - val_loss: 0.1889\n",
            "Epoch 4/50\n",
            "1440/1440 [==============================] - 0s 89us/sample - loss: 0.1453 - val_loss: 0.1887\n",
            "Epoch 5/50\n",
            "1440/1440 [==============================] - 0s 89us/sample - loss: 0.1453 - val_loss: 0.1899\n",
            "Epoch 6/50\n",
            "1440/1440 [==============================] - 0s 91us/sample - loss: 0.1457 - val_loss: 0.1984\n",
            "Epoch 7/50\n",
            "1440/1440 [==============================] - 0s 82us/sample - loss: 0.1465 - val_loss: 0.1839\n",
            "Epoch 8/50\n",
            "1440/1440 [==============================] - 0s 77us/sample - loss: 0.1440 - val_loss: 0.1847\n",
            "Epoch 9/50\n",
            "1440/1440 [==============================] - 0s 87us/sample - loss: 0.1444 - val_loss: 0.1829\n",
            "Epoch 10/50\n",
            "1440/1440 [==============================] - 0s 88us/sample - loss: 0.1453 - val_loss: 0.1917\n",
            "Epoch 11/50\n",
            "1440/1440 [==============================] - 0s 82us/sample - loss: 0.1449 - val_loss: 0.1756\n",
            "Epoch 12/50\n",
            "1440/1440 [==============================] - 0s 82us/sample - loss: 0.1442 - val_loss: 0.1771\n",
            "Epoch 13/50\n",
            "1440/1440 [==============================] - 0s 81us/sample - loss: 0.1432 - val_loss: 0.1902\n",
            "Epoch 14/50\n",
            "1440/1440 [==============================] - 0s 81us/sample - loss: 0.1441 - val_loss: 0.1776\n",
            "Epoch 15/50\n",
            "1440/1440 [==============================] - 0s 86us/sample - loss: 0.1436 - val_loss: 0.1786\n",
            "Epoch 16/50\n",
            "1440/1440 [==============================] - 0s 77us/sample - loss: 0.1439 - val_loss: 0.1778\n",
            "Epoch 17/50\n",
            "1440/1440 [==============================] - 0s 90us/sample - loss: 0.1447 - val_loss: 0.1773\n",
            "Epoch 18/50\n",
            "1440/1440 [==============================] - 0s 70us/sample - loss: 0.1447 - val_loss: 0.1767\n",
            "Epoch 19/50\n",
            "1440/1440 [==============================] - 0s 77us/sample - loss: 0.1434 - val_loss: 0.1779\n",
            "Epoch 20/50\n",
            "1440/1440 [==============================] - 0s 91us/sample - loss: 0.1432 - val_loss: 0.1847\n",
            "Epoch 21/50\n",
            "1440/1440 [==============================] - 0s 90us/sample - loss: 0.1435 - val_loss: 0.1786\n",
            "Epoch 22/50\n",
            "1440/1440 [==============================] - 0s 81us/sample - loss: 0.1444 - val_loss: 0.1807\n",
            "Epoch 23/50\n",
            "1440/1440 [==============================] - 0s 93us/sample - loss: 0.1438 - val_loss: 0.1749\n",
            "Epoch 24/50\n",
            "1440/1440 [==============================] - 0s 80us/sample - loss: 0.1434 - val_loss: 0.1807\n",
            "Epoch 25/50\n",
            "1440/1440 [==============================] - 0s 81us/sample - loss: 0.1446 - val_loss: 0.1753\n",
            "Epoch 26/50\n",
            "1440/1440 [==============================] - 0s 88us/sample - loss: 0.1434 - val_loss: 0.1782\n",
            "Epoch 27/50\n",
            "1440/1440 [==============================] - 0s 98us/sample - loss: 0.1430 - val_loss: 0.1798\n",
            "Epoch 28/50\n",
            "1440/1440 [==============================] - 0s 83us/sample - loss: 0.1442 - val_loss: 0.1801\n",
            "Epoch 29/50\n",
            "1440/1440 [==============================] - 0s 95us/sample - loss: 0.1432 - val_loss: 0.1784\n",
            "Epoch 30/50\n",
            "1440/1440 [==============================] - 0s 104us/sample - loss: 0.1429 - val_loss: 0.1769\n",
            "Epoch 31/50\n",
            "1440/1440 [==============================] - 0s 89us/sample - loss: 0.1436 - val_loss: 0.1797\n",
            "Epoch 32/50\n",
            "1440/1440 [==============================] - 0s 80us/sample - loss: 0.1428 - val_loss: 0.1774\n",
            "Epoch 33/50\n",
            "1440/1440 [==============================] - 0s 71us/sample - loss: 0.1423 - val_loss: 0.1820\n",
            "Epoch 34/50\n",
            "1440/1440 [==============================] - 0s 92us/sample - loss: 0.1434 - val_loss: 0.1772\n",
            "Epoch 35/50\n",
            "1440/1440 [==============================] - 0s 88us/sample - loss: 0.1440 - val_loss: 0.1742\n",
            "Epoch 36/50\n",
            "1440/1440 [==============================] - 0s 75us/sample - loss: 0.1425 - val_loss: 0.1729\n",
            "Epoch 37/50\n",
            "1440/1440 [==============================] - 0s 75us/sample - loss: 0.1423 - val_loss: 0.1740\n",
            "Epoch 38/50\n",
            "1440/1440 [==============================] - 0s 70us/sample - loss: 0.1428 - val_loss: 0.1731\n",
            "Epoch 39/50\n",
            "1440/1440 [==============================] - 0s 76us/sample - loss: 0.1439 - val_loss: 0.1762\n",
            "Epoch 40/50\n",
            "1440/1440 [==============================] - 0s 80us/sample - loss: 0.1411 - val_loss: 0.1801\n",
            "Epoch 41/50\n",
            "1440/1440 [==============================] - 0s 75us/sample - loss: 0.1412 - val_loss: 0.1738\n",
            "Epoch 42/50\n",
            "1440/1440 [==============================] - 0s 103us/sample - loss: 0.1416 - val_loss: 0.1733\n",
            "Epoch 43/50\n",
            "1440/1440 [==============================] - 0s 93us/sample - loss: 0.1413 - val_loss: 0.1820\n",
            "Epoch 44/50\n",
            "1440/1440 [==============================] - 0s 76us/sample - loss: 0.1419 - val_loss: 0.1718\n",
            "Epoch 45/50\n",
            "1440/1440 [==============================] - 0s 82us/sample - loss: 0.1405 - val_loss: 0.1714\n",
            "Epoch 46/50\n",
            "1440/1440 [==============================] - 0s 82us/sample - loss: 0.1407 - val_loss: 0.1720\n",
            "Epoch 47/50\n",
            "1440/1440 [==============================] - 0s 82us/sample - loss: 0.1410 - val_loss: 0.1721\n",
            "Epoch 48/50\n",
            "1440/1440 [==============================] - 0s 92us/sample - loss: 0.1402 - val_loss: 0.1752\n",
            "Epoch 49/50\n",
            "1440/1440 [==============================] - 0s 92us/sample - loss: 0.1400 - val_loss: 0.1704\n",
            "Epoch 50/50\n",
            "1440/1440 [==============================] - 0s 71us/sample - loss: 0.1386 - val_loss: 0.1733\n"
          ]
        },
        {
          "data": {
            "text/plain": [
              "<keras.callbacks.History at 0x25bffcd7b20>"
            ]
          },
          "execution_count": 91,
          "metadata": {},
          "output_type": "execute_result"
        }
      ],
      "source": [
        "# fitting the model to the training data \n",
        "model.fit(X_train, y_train, epochs=50, batch_size=32, validation_split=0.1)\n"
      ]
    },
    {
      "cell_type": "code",
      "execution_count": null,
      "id": "126c979c",
      "metadata": {
        "id": "126c979c",
        "outputId": "67cfa935-d67a-4671-af13-b1993f1e44ea"
      },
      "outputs": [
        {
          "data": {
            "text/plain": [
              "0.17417894065380096"
            ]
          },
          "execution_count": 93,
          "metadata": {},
          "output_type": "execute_result"
        }
      ],
      "source": [
        "\n",
        "# here we are evaluate the model on the test data\n",
        "model.evaluate(X_test, y_test)\n",
        "\n"
      ]
    },
    {
      "cell_type": "code",
      "execution_count": null,
      "id": "4c198eed",
      "metadata": {
        "id": "4c198eed"
      },
      "outputs": [],
      "source": [
        "# here we are make predictions from the test data we created\n",
        "y_pred = model.predict(X_test)\n",
        "y_pred = model.predict(X_test)\n",
        "\n"
      ]
    },
    {
      "cell_type": "code",
      "execution_count": null,
      "id": "075cf9c9",
      "metadata": {
        "id": "075cf9c9"
      },
      "outputs": [],
      "source": [
        "# so here we are converting predictions from probabilities to class labels using the argmax from numpy library.\n",
        "y_pred = np.argmax(y_pred, axis=1)\n",
        "\n"
      ]
    },
    {
      "cell_type": "code",
      "execution_count": null,
      "id": "0c8fb5ee",
      "metadata": {
        "id": "0c8fb5ee",
        "outputId": "0727922e-3ede-4d4d-e0dd-94ebb9859ea1"
      },
      "outputs": [
        {
          "name": "stdout",
          "output_type": "stream",
          "text": [
            "Accuracy: 0.2175\n"
          ]
        }
      ],
      "source": [
        "# so here we are calculating the accuracy of the predictions we have done so far\n",
        "accuracy = np.count_nonzero(y_pred == y_test) / len(y_test)\n",
        "print(f\"Accuracy: {accuracy}\")\n"
      ]
    },
    {
      "cell_type": "code",
      "execution_count": null,
      "id": "d606dfa8",
      "metadata": {
        "id": "d606dfa8"
      },
      "outputs": [],
      "source": []
    }
  ],
  "metadata": {
    "kernelspec": {
      "display_name": "Python 3 (ipykernel)",
      "language": "python",
      "name": "python3"
    },
    "language_info": {
      "codemirror_mode": {
        "name": "ipython",
        "version": 3
      },
      "file_extension": ".py",
      "mimetype": "text/x-python",
      "name": "python",
      "nbconvert_exporter": "python",
      "pygments_lexer": "ipython3",
      "version": "3.9.7"
    },
    "colab": {
      "provenance": []
    }
  },
  "nbformat": 4,
  "nbformat_minor": 5
}